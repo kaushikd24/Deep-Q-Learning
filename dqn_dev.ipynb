{
 "cells": [
  {
   "cell_type": "code",
   "execution_count": 74,
   "metadata": {},
   "outputs": [],
   "source": [
    "import gymnasium as gym\n",
    "import torch\n",
    "import torch.nn as nn\n",
    "import torch.nn.functional as F\n",
    "import random\n",
    "import torch.optim as optim"
   ]
  },
  {
   "cell_type": "code",
   "execution_count": 47,
   "metadata": {},
   "outputs": [],
   "source": [
    "import gymnasium as gym\n",
    "import numpy as np\n",
    "from collections import deque\n",
    "\n",
    "class AtariEnvWrapper:\n",
    "    def __init__(self, env_name=\"Breakout-v5\", render_mode=\"rgb_array\", stack_size=4):\n",
    "        self.env = gym.make(env_name, render_mode=render_mode)\n",
    "        self.stack_size = stack_size\n",
    "        self.frames = deque(maxlen=stack_size)\n",
    "\n",
    "    def preprocess(self, frame):\n",
    "        import cv2\n",
    "        gray = cv2.cvtColor(frame, cv2.COLOR_RGB2GRAY)\n",
    "        resized = cv2.resize(gray, (84, 110), interpolation=cv2.INTER_AREA)\n",
    "        cropped = resized[18:102, :]\n",
    "        return cropped.astype(np.uint8)  # (84, 84)\n",
    "\n",
    "    def reset(self):\n",
    "        obs, _ = self.env.reset()\n",
    "        frame = self.preprocess(obs)\n",
    "        self.frames = deque([frame] * self.stack_size, maxlen=self.stack_size)\n",
    "        return np.stack(self.frames, axis=0)  # (4, 84, 84)\n",
    "\n",
    "    def step(self, action):\n",
    "        obs, reward, terminated, truncated, info = self.env.step(action)\n",
    "        frame = self.preprocess(obs)\n",
    "        self.frames.append(frame)\n",
    "        stacked_obs = np.stack(self.frames, axis=0)  # (4, 84, 84)\n",
    "        done = terminated or truncated\n",
    "        return stacked_obs, reward, done, info\n"
   ]
  },
  {
   "cell_type": "code",
   "execution_count": 49,
   "metadata": {},
   "outputs": [
    {
     "name": "stdout",
     "output_type": "stream",
     "text": [
      "(4, 84, 84)\n"
     ]
    }
   ],
   "source": [
    "env = AtariEnvWrapper(\"ALE/Breakout-v5\")\n",
    "obs = env.reset()\n",
    "print(obs.shape)  # → (4, 84, 84)"
   ]
  },
  {
   "cell_type": "code",
   "execution_count": 51,
   "metadata": {},
   "outputs": [],
   "source": [
    "action = env.env.action_space.sample()   # env.env to access underlying Gym env\n",
    "obs, reward, done, info = env.step(action)\n"
   ]
  },
  {
   "cell_type": "code",
   "execution_count": 53,
   "metadata": {},
   "outputs": [],
   "source": [
    "\n",
    "\n",
    "env = AtariEnvWrapper(\"ALE/Breakout-v5\")\n",
    "obs = env.reset()"
   ]
  },
  {
   "cell_type": "code",
   "execution_count": 66,
   "metadata": {},
   "outputs": [],
   "source": [
    "class DQN(nn.Module):\n",
    "    \n",
    "    def __init__(self):\n",
    "        super().__init__()\n",
    "        self.conv1 = nn.Conv2d(4, 16, kernel_size = 8, stride =4)\n",
    "        self.conv2 = nn.Conv2d(16, 32, kernel_size = 4, stride = 2)\n",
    "        #pass the output of conv2 to a linear layer\n",
    "        self.linear1 = nn.Linear(32*9*9, 256)\n",
    "        self.output = nn.Linear(256, 4)\n",
    "        \n",
    "    def forward(self, x):\n",
    "        x = self.conv1(x)\n",
    "        x = F.relu(x)\n",
    "        x = self.conv2(x)\n",
    "        x = F.relu(x)\n",
    "        #flatten the output\n",
    "        x = x.view(x.size(0), -1)\n",
    "        x = self.linear1(x)\n",
    "        x = F.relu(x)\n",
    "        x = self.output(x)\n",
    "        return x\n",
    "        "
   ]
  },
  {
   "cell_type": "code",
   "execution_count": 67,
   "metadata": {},
   "outputs": [],
   "source": [
    "class ReplayBuffer:\n",
    "    \n",
    "    def __init__(self, capacity):\n",
    "        self.capacity = capacity\n",
    "        self.buffer = []\n",
    "        \n",
    "    def push(self, state, action, reward, next_state, done):\n",
    "        self.buffer.append((state, action, reward, next_state, done))\n",
    "        if len(self.buffer)>self.capacity:\n",
    "            self.buffer.pop(0)\n",
    "            \n",
    "    def sample(self, batch_size):\n",
    "        batch = random.sample(self.buffer, batch_size)\n",
    "        states, actions, rewards, next_states, dones = zip(*batch)\n",
    "        \n",
    "        #stack and convert to tensors\n",
    "        states = torch.stack([torch.tensor(s, dtype=torch.float32) for s in states])\n",
    "        actions = torch.tensor(actions, dtype=torch.long)\n",
    "        rewards = torch.tensor(rewards, dtype=torch.float32)\n",
    "        next_states = torch.stack([torch.tensor(s, dtype=torch.float32) for s in next_states])\n",
    "        dones = torch.tensor(dones, dtype=torch.float32)\n",
    "        \n",
    "        return states, actions, rewards, next_states, dones\n",
    "    \n",
    "    def __len__(self):\n",
    "        return len(self.buffer)\n",
    "    "
   ]
  },
  {
   "cell_type": "code",
   "execution_count": 68,
   "metadata": {},
   "outputs": [],
   "source": [
    "replay_buffer = ReplayBuffer(capacity=10000)"
   ]
  },
  {
   "cell_type": "code",
   "execution_count": 69,
   "metadata": {},
   "outputs": [],
   "source": [
    "model = DQN()\n"
   ]
  },
  {
   "cell_type": "code",
   "execution_count": 70,
   "metadata": {},
   "outputs": [],
   "source": [
    "num_episodes = 1000\n",
    "num_steps = 1000"
   ]
  },
  {
   "cell_type": "code",
   "execution_count": 71,
   "metadata": {},
   "outputs": [],
   "source": [
    "class DQNAgent:\n",
    "    def __init__(self, model, optimizer, replay_buffer, num_actions, device, gamma = 0.99, epsilon_start = 1.0, epsilon_end = 0.1, epsilon_decay=1000000):\n",
    "        self.model = model\n",
    "        self.optimizer = optimizer\n",
    "        self.replay_buffer = replay_buffer\n",
    "        self.num_actions = num_actions\n",
    "        self.device = device\n",
    "        \n",
    "        self.gamma = gamma\n",
    "        \n",
    "        self.epsilon = epsilon_start\n",
    "        self.epsilon_end  = epsilon_end\n",
    "        self.epsilon_decay = epsilon_decay\n",
    "        self.step_count  = 0\n",
    "        \n",
    "    def select_action(self, state):\n",
    "        self.step_count +=1\n",
    "        self.epsilon = max(self.epsilon_end, self.epsilon - (1/self.epsilon_decay))\n",
    "        \n",
    "        if random.random() < self.epsilon:\n",
    "            return random.randint(0, self.num_actions-1)\n",
    "        else:\n",
    "            state = torch.tensor(state, dtype=torch.float32).unsqueeze(0).to(self.device)\n",
    "            with torch.no_grad():\n",
    "                q_values = self.model(state)\n",
    "            return q_values.argmax(dim=1).item()\n",
    "        \n",
    "    def store(self, state, action, reward, next_state, done):\n",
    "        self.replay_buffer.push(state, action, reward, next_state, done)\n",
    "        \n",
    "    def learn(self, batch_size):\n",
    "        if len(self.replay_buffer)<batch_size:\n",
    "            return\n",
    "        \n",
    "        states, actions, rewards, next_states, dones = self.replay_buffer.sample(batch_size)\n",
    "        \n",
    "        states = states.to(self.device)\n",
    "        actions = actions.to(self.device)\n",
    "        rewards = rewards.to(self.device)\n",
    "        next_states = next_states.to(self.device)\n",
    "        dones = dones.to(self.device)\n",
    "        \n",
    "        #q-val\n",
    "        q_values = self.model(states)\n",
    "        current_q = q_values.gather(1, actions.unsqueeze(1)).squeeze(1)\n",
    "\n",
    "        with torch.no_grad():\n",
    "            next_q = self.model(next_states)\n",
    "            target_q = rewards + self.gamma*next_q*(1-dones)\n",
    "            \n",
    "        #loss \n",
    "        loss = F.mse_loss(current_q, target_q)\n",
    "        self.optimizer.zero_grad()\n",
    "        loss.backward()\n",
    "        self.optimizer.step()"
   ]
  },
  {
   "cell_type": "code",
   "execution_count": 76,
   "metadata": {},
   "outputs": [],
   "source": [
    "optimizer = optim.SGD(model.parameters(), lr=0.001)\n",
    "device = torch.device(\"cuda\" if torch.cuda.is_available() else \"cpu\")\n",
    "agent = DQNAgent(model, optimizer, replay_buffer, num_actions=4, device=device)"
   ]
  },
  {
   "cell_type": "code",
   "execution_count": 78,
   "metadata": {},
   "outputs": [],
   "source": [
    "# agent = DQNAgent(model, optimizer, replay_buffer, num_actions=4, device=device)\n",
    "\n",
    "# \n",
    "# action = agent.select_action(state)\n",
    "# next_state, reward, done, _ = env.step(action)\n",
    "# agent.store(state, action, reward, next_state, done)\n",
    "# agent.learn(batch_size=32)\n"
   ]
  },
  {
   "cell_type": "code",
   "execution_count": 79,
   "metadata": {},
   "outputs": [],
   "source": [
    "# def train_dqn(agent, env, num_episodes=1000, batch_size=32, max_steps=10000, log_every=10):\n",
    "#     episode_rewards = []\n",
    "\n",
    "#     for episode in trange(num_episodes):\n",
    "#         state = env.reset()\n",
    "#         total_reward = 0\n",
    "\n",
    "#         for t in range(max_steps):\n",
    "#             action = agent.select_action(state)\n",
    "#             next_state, reward, done, _ = env.step(action)\n",
    "\n",
    "#             agent.store(state, action, reward, next_state, done)\n",
    "#             agent.learn(batch_size)\n",
    "\n",
    "#             state = next_state\n",
    "#             total_reward += reward\n",
    "\n",
    "#             if done:\n",
    "#                 break\n",
    "\n",
    "#         episode_rewards.append(total_reward)\n",
    "\n",
    "#         if (episode + 1) % log_every == 0:\n",
    "#             avg_reward = sum(episode_rewards[-log_every:]) / log_every\n",
    "#             print(f\"Episode {episode+1}, Avg Reward (last {log_every}): {avg_reward:.2f}, Epsilon: {agent.epsilon:.3f}\")\n",
    "\n",
    "#     return episode_rewards"
   ]
  },
  {
   "cell_type": "code",
   "execution_count": null,
   "metadata": {},
   "outputs": [],
   "source": []
  }
 ],
 "metadata": {
  "kernelspec": {
   "display_name": "Python 3",
   "language": "python",
   "name": "python3"
  },
  "language_info": {
   "codemirror_mode": {
    "name": "ipython",
    "version": 3
   },
   "file_extension": ".py",
   "mimetype": "text/x-python",
   "name": "python",
   "nbconvert_exporter": "python",
   "pygments_lexer": "ipython3",
   "version": "3.12.5"
  }
 },
 "nbformat": 4,
 "nbformat_minor": 2
}
